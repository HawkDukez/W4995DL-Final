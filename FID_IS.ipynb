{
  "nbformat": 4,
  "nbformat_minor": 0,
  "metadata": {
    "colab": {
      "name": "FID_IS.ipynb",
      "provenance": [],
      "collapsed_sections": [],
      "authorship_tag": "ABX9TyPvimSQFDbb7uc5PzIVwrm9",
      "include_colab_link": true
    },
    "kernelspec": {
      "name": "python3",
      "display_name": "Python 3"
    },
    "language_info": {
      "name": "python"
    },
    "accelerator": "GPU"
  },
  "cells": [
    {
      "cell_type": "markdown",
      "metadata": {
        "id": "view-in-github",
        "colab_type": "text"
      },
      "source": [
        "<a href=\"https://colab.research.google.com/github/HawkDukez/W4995DL-Final/blob/main/FID_IS.ipynb\" target=\"_parent\"><img src=\"https://colab.research.google.com/assets/colab-badge.svg\" alt=\"Open In Colab\"/></a>"
      ]
    },
    {
      "cell_type": "code",
      "execution_count": null,
      "metadata": {
        "colab": {
          "base_uri": "https://localhost:8080/"
        },
        "id": "gjm7K43uQkiy",
        "outputId": "4ff45da5-18de-400a-d7d8-2707c20aae13"
      },
      "outputs": [
        {
          "output_type": "stream",
          "name": "stdout",
          "text": [
            "Mounted at /content/drive\n"
          ]
        }
      ],
      "source": [
        "## mount google drive\n",
        "from google.colab import drive\n",
        "drive.mount('/content/drive')"
      ]
    },
    {
      "cell_type": "code",
      "source": [
        "from math import floor\n",
        "from numpy import ones\n",
        "from numpy import expand_dims\n",
        "from numpy import log\n",
        "from numpy import mean\n",
        "from numpy import std\n",
        "from numpy import exp\n",
        "from numpy.random import shuffle\n",
        "from keras.applications.inception_v3 import InceptionV3\n",
        "from keras.applications.inception_v3 import preprocess_input\n",
        "from keras.datasets import cifar10\n",
        "from skimage.transform import resize\n",
        "from numpy import asarray\n",
        "import numpy\n",
        "import torch.nn.functional as F\n",
        "import torch\n",
        "def scale_images(images, new_shape):\n",
        "\timages_list = list()\n",
        "\tfor image in images:\n",
        "\t\tnew_image = resize(image, new_shape, 0)\n",
        "\t\timages_list.append(new_image)\n",
        "\treturn asarray(images_list)\n",
        " \n",
        "\n",
        "def calculate_inception_score(images, n_split=10, eps=1E-16):\n",
        "\tmodel = InceptionV3()\n",
        "\tprocessed = images.astype('float32')\n",
        "\n",
        "\n",
        "\tprocessed = scale_images(processed,(299,299,3))\n",
        "\n",
        "\tprocessed = preprocess_input(processed)\n",
        "\tyhat = model.predict(processed)\n",
        "\tscores = list()\n",
        "\tn_part = floor(images.shape[0] / n_split)\n",
        "\tfor i in range(n_split):\n",
        "\t\tix_start, ix_end = i * n_part, i * n_part + n_part\n",
        "\t\tp_yx = yhat[ix_start:ix_end]\n",
        "\n",
        "\t\tp_y = expand_dims(p_yx.mean(axis=0), 0)\n",
        "\t\tkl_d = p_yx * (log(p_yx + eps) - log(p_y + eps))\n",
        "\t\tsum_kl_d = kl_d.sum(axis=1)\n",
        "\t\tavg_kl_d = mean(sum_kl_d)\n",
        "\t\tis_score = exp(avg_kl_d)\n",
        "\t\tscores.append(is_score)\n",
        "\tis_avg, is_std = mean(scores), std(scores)\n",
        "\treturn is_avg, is_std\n",
        "#def preprocess1(img):\n",
        "#    return F.interpolate(img, size=(299,299), mode='bilinear', align_corners=False)\n",
        "images=numpy.load('drive/MyDrive/DL_final/save_fake.npy')\n",
        "\n",
        "shuffle(images)\n",
        "print(type(images))\n",
        "print('loaded', images.shape)\n",
        "is_avg, is_std = calculate_inception_score(images)\n",
        "print('score', is_avg, is_std)"
      ],
      "metadata": {
        "colab": {
          "base_uri": "https://localhost:8080/"
        },
        "id": "ZCuWO0OoabdJ",
        "outputId": "5f2179fe-8109-410c-9a37-0d7d1b105641"
      },
      "execution_count": null,
      "outputs": [
        {
          "output_type": "stream",
          "name": "stdout",
          "text": [
            "<class 'numpy.ndarray'>\n",
            "loaded (163, 3, 256, 256)\n",
            "score 1.0032332 0.0024243656\n"
          ]
        }
      ]
    },
    {
      "cell_type": "code",
      "source": [
        "import numpy\n",
        "from numpy import cov\n",
        "from numpy import trace\n",
        "from numpy import iscomplexobj\n",
        "from numpy import asarray\n",
        "from numpy.random import shuffle\n",
        "from scipy.linalg import sqrtm\n",
        "from keras.applications.inception_v3 import InceptionV3\n",
        "from keras.applications.inception_v3 import preprocess_input\n",
        "\n",
        "from skimage.transform import resize\n",
        "\n",
        " \n",
        "def scale_images(images, new_shape):\n",
        "\timages_list = list()\n",
        "\tfor image in images:\n",
        "\t\tnew_image = resize(image, new_shape, 0)\n",
        "\t\timages_list.append(new_image)\n",
        "\treturn asarray(images_list)\n",
        " \n",
        "def calculate_fid(model, images1, images2):\n",
        "\tact1 = model.predict(images1)\n",
        "\tact2 = model.predict(images2)\n",
        "\tmu1, sigma1 = act1.mean(axis=0), cov(act1, rowvar=False)\n",
        "\tmu2, sigma2 = act2.mean(axis=0), cov(act2, rowvar=False)\n",
        "\tssdiff = numpy.sum((mu1 - mu2)**2.0)\n",
        "\tcovmean = sqrtm(sigma1.dot(sigma2))\n",
        "\tif iscomplexobj(covmean):\n",
        "\t\tcovmean = covmean.real\n",
        "\tfid = ssdiff + trace(sigma1 + sigma2 - 2.0 * covmean)\n",
        "\treturn fid\n",
        " \n",
        "model = InceptionV3(include_top=False, pooling='avg', input_shape=(299,299,3))\n",
        "\n",
        "images1 = numpy.load('drive/MyDrive/DL_final/save_real.npy')\n",
        "shuffle(images1)\n",
        "\n",
        "images2 = numpy.load('drive/MyDrive/DL_final/save_fake.npy')\n",
        "print(type(images1))\n",
        "print('Loaded', images1.shape, images2.shape)\n",
        "\n",
        "images1 = images1.astype('float32')\n",
        "images2 = images2.astype('float32')\n",
        "images1 = scale_images(images1, (299,299,3))\n",
        "images2 = scale_images(images2, (299,299,3))\n",
        "print('Scaled', images1.shape, images2.shape)\n",
        "\n",
        "images1 = preprocess_input(images1)\n",
        "images2 = preprocess_input(images2)\n",
        "\n",
        "fid = calculate_fid(model, images1, images2)\n",
        "print('FID: %.3f' % fid)"
      ],
      "metadata": {
        "colab": {
          "base_uri": "https://localhost:8080/"
        },
        "id": "Drf8lZLsRjN4",
        "outputId": "951e1a07-6b4e-4058-e704-ca161b9a6272"
      },
      "execution_count": null,
      "outputs": [
        {
          "output_type": "stream",
          "name": "stdout",
          "text": [
            "Downloading data from https://storage.googleapis.com/tensorflow/keras-applications/inception_v3/inception_v3_weights_tf_dim_ordering_tf_kernels_notop.h5\n",
            "87916544/87910968 [==============================] - 1s 0us/step\n",
            "87924736/87910968 [==============================] - 1s 0us/step\n",
            "<class 'numpy.ndarray'>\n",
            "Loaded (163, 3, 256, 256) (163, 3, 256, 256)\n",
            "Scaled (163, 299, 299, 3) (163, 299, 299, 3)\n",
            "FID: 0.048\n"
          ]
        }
      ]
    },
    {
      "cell_type": "code",
      "source": [
        ""
      ],
      "metadata": {
        "id": "9W1f5Gd_T_W_"
      },
      "execution_count": null,
      "outputs": []
    }
  ]
}