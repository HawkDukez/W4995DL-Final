{
 "cells": [
  {
   "cell_type": "markdown",
   "metadata": {
    "colab_type": "text",
    "id": "view-in-github"
   },
   "source": [
    "<a href=\"https://colab.research.google.com/github/HawkDukez/W4995DL-Final/blob/main/FID_IS.ipynb\" target=\"_parent\"><img src=\"https://colab.research.google.com/assets/colab-badge.svg\" alt=\"Open In Colab\"/></a>"
   ]
  },
  {
   "cell_type": "code",
   "execution_count": 1,
   "metadata": {
    "colab": {
     "base_uri": "https://localhost:8080/"
    },
    "id": "gjm7K43uQkiy",
    "outputId": "ccfb72de-7678-4884-8642-774c54abc4b2"
   },
   "outputs": [
    {
     "name": "stdout",
     "output_type": "stream",
     "text": [
      "Mounted at /content/drive\n"
     ]
    }
   ],
   "source": [
    "## mount google drive\n",
    "from google.colab import drive\n",
    "drive.mount('/content/drive')"
   ]
  },
  {
   "cell_type": "code",
   "execution_count": 2,
   "metadata": {
    "colab": {
     "base_uri": "https://localhost:8080/"
    },
    "id": "hRmMLyjLhuD-",
    "outputId": "1e6bb653-0faa-4b29-cdd0-3e330d0e29fc"
   },
   "outputs": [
    {
     "name": "stdout",
     "output_type": "stream",
     "text": [
      "Archive:  drive/MyDrive/DL_final/save_500.zip\n",
      "  inflating: drive/MyDrive/DL_final/save_real500.npy  \n",
      "  inflating: drive/MyDrive/DL_final/save_fake500.npy  \n"
     ]
    }
   ],
   "source": [
    "!unzip \"drive/MyDrive/DL_final/save_500.zip\" -d  \"drive/MyDrive/DL_final/\""
   ]
  },
  {
   "cell_type": "code",
   "execution_count": 3,
   "metadata": {
    "colab": {
     "base_uri": "https://localhost:8080/"
    },
    "id": "ZCuWO0OoabdJ",
    "outputId": "64b3f7eb-4a40-4989-b0e4-173de91cfb45"
   },
   "outputs": [
    {
     "name": "stdout",
     "output_type": "stream",
     "text": [
      "<class 'numpy.ndarray'>\n",
      "loaded (500, 3, 256, 256)\n",
      "Downloading data from https://storage.googleapis.com/tensorflow/keras-applications/inception_v3/inception_v3_weights_tf_dim_ordering_tf_kernels.h5\n",
      "96116736/96112376 [==============================] - 0s 0us/step\n",
      "96124928/96112376 [==============================] - 0s 0us/step\n",
      "score 1.0038469 0.00215613\n"
     ]
    }
   ],
   "source": [
    "from math import floor\n",
    "from numpy import ones\n",
    "from numpy import expand_dims\n",
    "from numpy import log\n",
    "from numpy import mean\n",
    "from numpy import std\n",
    "from numpy import exp\n",
    "from numpy.random import shuffle\n",
    "from keras.applications.inception_v3 import InceptionV3\n",
    "from keras.applications.inception_v3 import preprocess_input\n",
    "from keras.datasets import cifar10\n",
    "from skimage.transform import resize\n",
    "from numpy import asarray\n",
    "import numpy\n",
    "import torch.nn.functional as F\n",
    "import torch\n",
    "def scale_images(images, new_shape):\n",
    "\timages_list = list()\n",
    "\tfor image in images:\n",
    "\t\tnew_image = resize(image, new_shape, 0)\n",
    "\t\timages_list.append(new_image)\n",
    "\treturn asarray(images_list)\n",
    " \n",
    "\n",
    "def calculate_inception_score(images, n_split=10, eps=1E-16):\n",
    "\tmodel = InceptionV3()\n",
    "\tprocessed = images.astype('float32')\n",
    "\n",
    "\n",
    "\tprocessed = scale_images(processed,(299,299,3))\n",
    "\n",
    "\tprocessed = preprocess_input(processed)\n",
    "\tyhat = model.predict(processed)\n",
    "\tscores = list()\n",
    "\tn_part = floor(images.shape[0] / n_split)\n",
    "\tfor i in range(n_split):\n",
    "\t\tix_start, ix_end = i * n_part, i * n_part + n_part\n",
    "\t\tp_yx = yhat[ix_start:ix_end]\n",
    "\n",
    "\t\tp_y = expand_dims(p_yx.mean(axis=0), 0)\n",
    "\t\tkl_d = p_yx * (log(p_yx + eps) - log(p_y + eps))\n",
    "\t\tsum_kl_d = kl_d.sum(axis=1)\n",
    "\t\tavg_kl_d = mean(sum_kl_d)\n",
    "\t\tis_score = exp(avg_kl_d)\n",
    "\t\tscores.append(is_score)\n",
    "\tis_avg, is_std = mean(scores), std(scores)\n",
    "\treturn is_avg, is_std\n",
    "#def preprocess1(img):\n",
    "#    return F.interpolate(img, size=(299,299), mode='bilinear', align_corners=False)\n",
    "images=numpy.load('drive/MyDrive/DL_final/save_fake500.npy')\n",
    "\n",
    "shuffle(images)\n",
    "print(type(images))\n",
    "print('loaded', images.shape)\n",
    "is_avg, is_std = calculate_inception_score(images)\n",
    "print('score', is_avg, is_std)"
   ]
  },
  {
   "cell_type": "code",
   "execution_count": 4,
   "metadata": {
    "colab": {
     "base_uri": "https://localhost:8080/"
    },
    "id": "Drf8lZLsRjN4",
    "outputId": "e003b6a0-f03c-4dfd-aa32-0c49d546b2ff"
   },
   "outputs": [
    {
     "name": "stdout",
     "output_type": "stream",
     "text": [
      "Downloading data from https://storage.googleapis.com/tensorflow/keras-applications/inception_v3/inception_v3_weights_tf_dim_ordering_tf_kernels_notop.h5\n",
      "87916544/87910968 [==============================] - 0s 0us/step\n",
      "87924736/87910968 [==============================] - 0s 0us/step\n",
      "<class 'numpy.ndarray'>\n",
      "Loaded (500, 3, 256, 256) (500, 3, 256, 256)\n",
      "Scaled (500, 299, 299, 3) (500, 299, 299, 3)\n",
      "FID: 0.029\n"
     ]
    }
   ],
   "source": [
    "import numpy\n",
    "from numpy import cov\n",
    "from numpy import trace\n",
    "from numpy import iscomplexobj\n",
    "from numpy import asarray\n",
    "from numpy.random import shuffle\n",
    "from scipy.linalg import sqrtm\n",
    "from keras.applications.inception_v3 import InceptionV3\n",
    "from keras.applications.inception_v3 import preprocess_input\n",
    "\n",
    "from skimage.transform import resize\n",
    "\n",
    " \n",
    "def scale_images(images, new_shape):\n",
    "\timages_list = list()\n",
    "\tfor image in images:\n",
    "\t\tnew_image = resize(image, new_shape, 0)\n",
    "\t\timages_list.append(new_image)\n",
    "\treturn asarray(images_list)\n",
    " \n",
    "def calculate_fid(model, images1, images2):\n",
    "\tact1 = model.predict(images1)\n",
    "\tact2 = model.predict(images2)\n",
    "\tmu1, sigma1 = act1.mean(axis=0), cov(act1, rowvar=False)\n",
    "\tmu2, sigma2 = act2.mean(axis=0), cov(act2, rowvar=False)\n",
    "\tssdiff = numpy.sum((mu1 - mu2)**2.0)\n",
    "\tcovmean = sqrtm(sigma1.dot(sigma2))\n",
    "\tif iscomplexobj(covmean):\n",
    "\t\tcovmean = covmean.real\n",
    "\tfid = ssdiff + trace(sigma1 + sigma2 - 2.0 * covmean)\n",
    "\treturn fid\n",
    " \n",
    "model = InceptionV3(include_top=False, pooling='avg', input_shape=(299,299,3))\n",
    "\n",
    "images1 = numpy.load('drive/MyDrive/DL_final/save_real500.npy')\n",
    "shuffle(images1)\n",
    "\n",
    "images2 = numpy.load('drive/MyDrive/DL_final/save_fake500.npy')\n",
    "print(type(images1))\n",
    "print('Loaded', images1.shape, images2.shape)\n",
    "\n",
    "images1 = images1.astype('float32')\n",
    "images2 = images2.astype('float32')\n",
    "images1 = scale_images(images1, (299,299,3))\n",
    "images2 = scale_images(images2, (299,299,3))\n",
    "print('Scaled', images1.shape, images2.shape)\n",
    "\n",
    "images1 = preprocess_input(images1)\n",
    "images2 = preprocess_input(images2)\n",
    "\n",
    "fid = calculate_fid(model, images1, images2)\n",
    "print('FID: %.3f' % fid)"
   ]
  },
  {
   "cell_type": "code",
   "execution_count": null,
   "metadata": {
    "id": "9W1f5Gd_T_W_"
   },
   "outputs": [],
   "source": []
  }
 ],
 "metadata": {
  "accelerator": "GPU",
  "colab": {
   "authorship_tag": "ABX9TyNgCetHXomIYWeVyoX6pi5H",
   "collapsed_sections": [],
   "include_colab_link": true,
   "name": "FID_IS.ipynb",
   "provenance": []
  },
  "kernelspec": {
   "display_name": "Python 3",
   "language": "python",
   "name": "python3"
  },
  "language_info": {
   "codemirror_mode": {
    "name": "ipython",
    "version": 3
   },
   "file_extension": ".py",
   "mimetype": "text/x-python",
   "name": "python",
   "nbconvert_exporter": "python",
   "pygments_lexer": "ipython3",
   "version": "3.8.8"
  }
 },
 "nbformat": 4,
 "nbformat_minor": 1
}
