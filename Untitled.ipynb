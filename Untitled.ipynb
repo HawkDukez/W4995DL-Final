{
 "cells": [
  {
   "cell_type": "code",
   "execution_count": 17,
   "id": "fbeeaa70",
   "metadata": {
    "scrolled": true
   },
   "outputs": [],
   "source": [
    "!git add ."
   ]
  },
  {
   "cell_type": "code",
   "execution_count": 21,
   "id": "d4235a2f",
   "metadata": {},
   "outputs": [
    {
     "name": "stdout",
     "output_type": "stream",
     "text": [
      "error: You have not concluded your merge (MERGE_HEAD exists).\r\n",
      "\u001b[33mhint: Please, commit your changes before merging.\u001b[m\r\n",
      "fatal: Exiting because of unfinished merge.\r\n"
     ]
    }
   ],
   "source": [
    "!git pull"
   ]
  },
  {
   "cell_type": "code",
   "execution_count": 25,
   "id": "928af890",
   "metadata": {},
   "outputs": [
    {
     "name": "stdout",
     "output_type": "stream",
     "text": [
      "error: cannot rebase: You have unstaged changes.\r\n",
      "error: Please commit or stash them.\r\n"
     ]
    }
   ],
   "source": [
    "!git rebase origin/main"
   ]
  }
 ],
 "metadata": {
  "kernelspec": {
   "display_name": "Python [conda env:root] *",
   "language": "python",
   "name": "conda-root-py"
  },
  "language_info": {
   "codemirror_mode": {
    "name": "ipython",
    "version": 3
   },
   "file_extension": ".py",
   "mimetype": "text/x-python",
   "name": "python",
   "nbconvert_exporter": "python",
   "pygments_lexer": "ipython3",
   "version": "3.7.12"
  }
 },
 "nbformat": 4,
 "nbformat_minor": 5
}
