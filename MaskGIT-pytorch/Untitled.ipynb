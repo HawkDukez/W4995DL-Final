{
 "cells": [
  {
   "cell_type": "code",
   "execution_count": 17,
   "id": "fbeeaa70",
   "metadata": {
    "scrolled": true
   },
   "outputs": [],
   "source": [
    "!git add ."
   ]
  },
  {
   "cell_type": "code",
   "execution_count": 18,
   "id": "d4235a2f",
   "metadata": {},
   "outputs": [
    {
     "name": "stdout",
     "output_type": "stream",
     "text": [
      "[main 50d0bfe] add code\r\n",
      " 28 files changed, 1725 insertions(+)\r\n",
      " create mode 100644 .ipynb_checkpoints/Untitled-checkpoint.ipynb\r\n",
      " create mode 100644 .ipynb_checkpoints/training_transformer-checkpoint.py\r\n",
      " create mode 100644 .ipynb_checkpoints/training_vqgan-checkpoint.py\r\n",
      " create mode 100644 .ipynb_checkpoints/transformer-checkpoint.py\r\n",
      " create mode 100644 .ipynb_checkpoints/utils-checkpoint.py\r\n",
      " create mode 100644 Untitled.ipynb\r\n",
      " create mode 100644 __pycache__/bidirectional_transformer.cpython-37.pyc\r\n",
      " create mode 100644 __pycache__/codebook.cpython-37.pyc\r\n",
      " create mode 100644 __pycache__/decoder.cpython-37.pyc\r\n",
      " create mode 100644 __pycache__/discriminator.cpython-37.pyc\r\n",
      " create mode 100644 __pycache__/encoder.cpython-37.pyc\r\n",
      " create mode 100644 __pycache__/helper.cpython-37.pyc\r\n",
      " create mode 100644 __pycache__/lpips.cpython-37.pyc\r\n",
      " create mode 100644 __pycache__/transformer.cpython-37.pyc\r\n",
      " create mode 100644 __pycache__/utils.cpython-37.pyc\r\n",
      " create mode 100644 __pycache__/vqgan.cpython-37.pyc\r\n",
      " create mode 100644 bidirectional_transformer.py\r\n",
      " create mode 100644 codebook.py\r\n",
      " create mode 100644 decoder.py\r\n",
      " create mode 100644 discriminator.py\r\n",
      " create mode 100644 encoder.py\r\n",
      " create mode 100644 helper.py\r\n",
      " create mode 100644 lpips.py\r\n",
      " create mode 100644 training_transformer.py\r\n",
      " create mode 100644 training_vqgan.py\r\n",
      " create mode 100644 transformer.py\r\n",
      " create mode 100644 utils.py\r\n",
      " create mode 100644 vqgan.py\r\n"
     ]
    }
   ],
   "source": [
    "!git commit -m \"add code\""
   ]
  },
  {
   "cell_type": "code",
   "execution_count": null,
   "id": "928af890",
   "metadata": {},
   "outputs": [
    {
     "name": "stdout",
     "output_type": "stream",
     "text": [
      "Username for 'https://github.com': "
     ]
    }
   ],
   "source": [
    "!git push -u origin main"
   ]
  }
 ],
 "metadata": {
  "kernelspec": {
   "display_name": "Python [conda env:root] *",
   "language": "python",
   "name": "conda-root-py"
  },
  "language_info": {
   "codemirror_mode": {
    "name": "ipython",
    "version": 3
   },
   "file_extension": ".py",
   "mimetype": "text/x-python",
   "name": "python",
   "nbconvert_exporter": "python",
   "pygments_lexer": "ipython3",
   "version": "3.7.12"
  }
 },
 "nbformat": 4,
 "nbformat_minor": 5
}
